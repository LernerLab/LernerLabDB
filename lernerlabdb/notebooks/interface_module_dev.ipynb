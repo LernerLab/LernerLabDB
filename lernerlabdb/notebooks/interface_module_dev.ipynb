{
 "cells": [
  {
   "cell_type": "code",
   "execution_count": 2,
   "metadata": {},
   "outputs": [],
   "source": [
    "%load_ext autoreload\n",
    "%autoreload 2\n"
   ]
  },
  {
   "cell_type": "code",
   "execution_count": 3,
   "metadata": {},
   "outputs": [],
   "source": [
    "from lernerlabdb.interface_modules.Structure import Structure\n",
    "from lernerlabdb.interface_modules.Coordinates import Coordinates"
   ]
  },
  {
   "cell_type": "code",
   "execution_count": 4,
   "metadata": {},
   "outputs": [
    {
     "name": "stdout",
     "output_type": "stream",
     "text": [
      "Invalid hemisphere input. Please enter 'Left', 'Right', 'Bilateral', or None.\n"
     ]
    },
    {
     "ename": "NameError",
     "evalue": "name 'capsys' is not defined",
     "output_type": "error",
     "traceback": [
      "\u001b[0;31m---------------------------------------------------------------------------\u001b[0m",
      "\u001b[0;31mNameError\u001b[0m                                 Traceback (most recent call last)",
      "\u001b[1;32m/Users/mds8301/Development/LernerLabDB/lernerlabdb/notebooks/interface_module_dev.ipynb Cell 3\u001b[0m line \u001b[0;36m3\n\u001b[1;32m      <a href='vscode-notebook-cell:/Users/mds8301/Development/LernerLabDB/lernerlabdb/notebooks/interface_module_dev.ipynb#X10sZmlsZQ%3D%3D?line=0'>1</a>\u001b[0m \u001b[39mimport\u001b[39;00m \u001b[39mpytest\u001b[39;00m\n\u001b[1;32m      <a href='vscode-notebook-cell:/Users/mds8301/Development/LernerLabDB/lernerlabdb/notebooks/interface_module_dev.ipynb#X10sZmlsZQ%3D%3D?line=1'>2</a>\u001b[0m s \u001b[39m=\u001b[39m Structure(\u001b[39m\"\u001b[39m\u001b[39mLateral Hypothalamic Area\u001b[39m\u001b[39m\"\u001b[39m, \u001b[39m\"\u001b[39m\u001b[39mLHA\u001b[39m\u001b[39m\"\u001b[39m, \u001b[39m\"\u001b[39m\u001b[39mInvalidInput\u001b[39m\u001b[39m\"\u001b[39m, (\u001b[39m-\u001b[39m\u001b[39m1.6\u001b[39m, \u001b[39m0.9\u001b[39m, \u001b[39m-\u001b[39m\u001b[39m4.9\u001b[39m))\n\u001b[0;32m----> <a href='vscode-notebook-cell:/Users/mds8301/Development/LernerLabDB/lernerlabdb/notebooks/interface_module_dev.ipynb#X10sZmlsZQ%3D%3D?line=2'>3</a>\u001b[0m captured \u001b[39m=\u001b[39m capsys\u001b[39m.\u001b[39mreadouterr()\n\u001b[1;32m      <a href='vscode-notebook-cell:/Users/mds8301/Development/LernerLabDB/lernerlabdb/notebooks/interface_module_dev.ipynb#X10sZmlsZQ%3D%3D?line=3'>4</a>\u001b[0m \u001b[39massert\u001b[39;00m captured\u001b[39m.\u001b[39mout \u001b[39m==\u001b[39m \u001b[39m\"\u001b[39m\u001b[39mInvalid hemisphere input. Please enter \u001b[39m\u001b[39m'\u001b[39m\u001b[39mLeft\u001b[39m\u001b[39m'\u001b[39m\u001b[39m, \u001b[39m\u001b[39m'\u001b[39m\u001b[39mRight\u001b[39m\u001b[39m'\u001b[39m\u001b[39m, \u001b[39m\u001b[39m'\u001b[39m\u001b[39mBilateral\u001b[39m\u001b[39m'\u001b[39m\u001b[39m, or None.\u001b[39m\u001b[39m\\n\u001b[39;00m\u001b[39m\"\u001b[39m\n",
      "\u001b[0;31mNameError\u001b[0m: name 'capsys' is not defined"
     ]
    }
   ],
   "source": [
    "\n",
    "import pytest\n",
    "s = Structure(\"Lateral Hypothalamic Area\", \"LHA\", \"InvalidInput\", (-1.6, 0.9, -4.9))\n",
    "captured = capsys.readouterr()\n",
    "assert captured.out == \"Invalid hemisphere input. Please enter 'Left', 'Right', 'Bilateral', or None.\\n\"\n"
   ]
  },
  {
   "cell_type": "code",
   "execution_count": 8,
   "metadata": {},
   "outputs": [],
   "source": [
    "import pytest"
   ]
  },
  {
   "cell_type": "code",
   "execution_count": 9,
   "metadata": {},
   "outputs": [
    {
     "ename": "NameError",
     "evalue": "name 'capsys' is not defined",
     "output_type": "error",
     "traceback": [
      "\u001b[0;31m---------------------------------------------------------------------------\u001b[0m",
      "\u001b[0;31mNameError\u001b[0m                                 Traceback (most recent call last)",
      "\u001b[1;32m/Users/mds8301/Development/LernerLabDB/lernerlabdb/notebooks/interface_module_dev.ipynb Cell 5\u001b[0m line \u001b[0;36m1\n\u001b[0;32m----> <a href='vscode-notebook-cell:/Users/mds8301/Development/LernerLabDB/lernerlabdb/notebooks/interface_module_dev.ipynb#X12sZmlsZQ%3D%3D?line=0'>1</a>\u001b[0m cap  \u001b[39m=\u001b[39m capsys\u001b[39m.\u001b[39mreadouterr()\n",
      "\u001b[0;31mNameError\u001b[0m: name 'capsys' is not defined"
     ]
    }
   ],
   "source": [
    "cap  = capsys.readouterr()"
   ]
  },
  {
   "cell_type": "code",
   "execution_count": null,
   "metadata": {},
   "outputs": [],
   "source": []
  }
 ],
 "metadata": {
  "kernelspec": {
   "display_name": "lldb",
   "language": "python",
   "name": "python3"
  },
  "language_info": {
   "codemirror_mode": {
    "name": "ipython",
    "version": 3
   },
   "file_extension": ".py",
   "mimetype": "text/x-python",
   "name": "python",
   "nbconvert_exporter": "python",
   "pygments_lexer": "ipython3",
   "version": "3.11.6"
  }
 },
 "nbformat": 4,
 "nbformat_minor": 2
}
