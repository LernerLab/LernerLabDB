{
 "cells": [
  {
   "cell_type": "code",
   "execution_count": 10,
   "metadata": {},
   "outputs": [],
   "source": [
    "%load_ext autoreload\n",
    "%autoreload 2\n"
   ]
  },
  {
   "cell_type": "code",
   "execution_count": 9,
   "metadata": {},
   "outputs": [],
   "source": [
    "from lernerlabdb.interface_modules.Structure import Structure\n",
    "from lernerlabdb.interface_modules.Injection import Injection\n",
    "from lernerlabdb.interface_modules.Implant import Implant\n",
    "from lernerlabdb.interface_modules.Procedure import Procedure\n",
    "from lernerlabdb.interface_modules.Drug import Drug\n",
    "from lernerlabdb.interface_modules.Mouse import Mouse\n",
    "from lernerlabdb.interface_modules.Scientist import Scientist\n",
    "from lernerlabdb.interface_modules.Surgery import Surgery\n",
    "from lernerlabdb.interface_modules.Cage import Cage\n",
    "from lernerlabdb.interface_modules.enums import CageStatus, Location, Sex, Genotype\n",
    "import datetime\n"
   ]
  },
  {
   "cell_type": "code",
   "execution_count": 12,
   "metadata": {},
   "outputs": [
    {
     "data": {
      "text/plain": [
       "{\"barcode'\": 1,\n",
       " 'cage_nickname': 'cage_fixture',\n",
       " 'parent_cage': None,\n",
       " 'num_animals': 3,\n",
       " 'genotype': 'Wildtype',\n",
       " 'sex': 'Female',\n",
       " 'age': None,\n",
       " 'location': 'W15W_019',\n",
       " 'status': 'Active'}"
      ]
     },
     "execution_count": 12,
     "metadata": {},
     "output_type": "execute_result"
    }
   ],
   "source": [
    "cage = Cage(barcode=1,\n",
    "                cage_nickname='cage_fixture',\n",
    "                num_animals=3,\n",
    "                genotype=Genotype.WT,\n",
    "                sex=Sex.FEMALE,\n",
    "                date_of_birth=datetime.datetime(2021, 1, 1),\n",
    "                location=Location.W15W_019,\n",
    "                status=CageStatus.ACTIVE)\n",
    "cage.data.cage_nickname"
   ]
  },
  {
   "cell_type": "code",
   "execution_count": 12,
   "metadata": {},
   "outputs": [],
   "source": [
    "\n",
    "s = Structure(\"Lateral Hypothalamic Area\", \"LHA\", \"LEFT\", (-1.6, 0.9, -4.9))\n",
    "\n",
    "inj = Injection(substrate = \"AAV-dLIGHT1.3b\", type = 'VIRUS', titer = 1.0, volume = 500, flowrate = 100)"
   ]
  },
  {
   "cell_type": "code",
   "execution_count": 13,
   "metadata": {},
   "outputs": [],
   "source": [
    "\n",
    "inj.adjust_injection_coordinates(1, 2, 3)\n",
    "s.add_injection(inj)\n",
    "implant = Implant(\"OPTO\")\n",
    "implant.adjust_implant_coordinates(1, 2, 3)\n",
    "s.add_implant(implant)"
   ]
  },
  {
   "cell_type": "code",
   "execution_count": 14,
   "metadata": {},
   "outputs": [
    {
     "data": {
      "text/plain": [
       "{'implant_1': {'type': 'OPTO',\n",
       "  'angle': 90,\n",
       "  'coordinates': {'AP': 1, 'ML': 2, 'DV': 3}}}"
      ]
     },
     "execution_count": 14,
     "metadata": {},
     "output_type": "execute_result"
    }
   ],
   "source": [
    "s.structure_data['implants']"
   ]
  },
  {
   "cell_type": "code",
   "execution_count": 15,
   "metadata": {},
   "outputs": [],
   "source": [
    "\n",
    "procedure = Procedure(\"LHA and NAc implants\", id = 102)"
   ]
  },
  {
   "cell_type": "code",
   "execution_count": 16,
   "metadata": {},
   "outputs": [],
   "source": [
    "procedure.add_structure(s)"
   ]
  },
  {
   "cell_type": "code",
   "execution_count": 19,
   "metadata": {},
   "outputs": [
    {
     "data": {
      "text/plain": [
       "{'name': 'LHA and NAc implants',\n",
       " 'id': 102,\n",
       " 'structures': {'structure_1': {'region': 'LATERAL HYPOTHALAMIC AREA',\n",
       "   'accronym': 'LHA',\n",
       "   'hemisphere': 'LEFT',\n",
       "   'coordinates': {'AP': -1.6, 'ML': 0.9, 'DV': -4.9},\n",
       "   'injections': {'injection_1': {'substrate': 'AAV-DLIGHT1.3B',\n",
       "     'type': 'VIRUS',\n",
       "     'volume(nL)': 500,\n",
       "     'flowrate(nL/min)': 100,\n",
       "     'titer(e12)': 1.0,\n",
       "     'molarity(mM)': None,\n",
       "     'injection_coordinates': {'AP': 1, 'ML': 2, 'DV': 3},\n",
       "     'injection_angle': 90}},\n",
       "   'implants': {'implant_1': {'type': 'OPTO',\n",
       "     'angle': 90,\n",
       "     'coordinates': {'AP': 1, 'ML': 2, 'DV': 3}}}}}}"
      ]
     },
     "execution_count": 19,
     "metadata": {},
     "output_type": "execute_result"
    }
   ],
   "source": [
    "procedure.procedure_data"
   ]
  },
  {
   "cell_type": "code",
   "execution_count": 20,
   "metadata": {},
   "outputs": [
    {
     "data": {
      "text/plain": [
       "{'date': '10/25/2023',\n",
       " 'time': '16:10',\n",
       " 'type': 'Surgery',\n",
       " 'note': 'This is a note'}"
      ]
     },
     "execution_count": 20,
     "metadata": {},
     "output_type": "execute_result"
    }
   ],
   "source": [
    "from lernerlabdb.interface_modules.Note import Note\n",
    "note = Note(type = 'Surgery', note = 'This is a note')\n",
    "note.note_data"
   ]
  },
  {
   "cell_type": "code",
   "execution_count": 12,
   "metadata": {},
   "outputs": [
    {
     "data": {
      "text/plain": [
       "datetime.datetime(2023, 6, 25, 0, 0)"
      ]
     },
     "execution_count": 12,
     "metadata": {},
     "output_type": "execute_result"
    }
   ],
   "source": [
    "\n",
    "from datetime import datetime \n",
    "from lernerlabdb.interface_modules.Mouse import Mouse\n",
    "from lernerlabdb.interface_modules.Cage import Cage\n",
    "mouse = Mouse(date_of_birth=datetime(2023, 6, 25),\n",
    "              sex = 'male', \n",
    "              ear_tag = 1234, \n",
    "              genotype='DATCre', \n",
    "              zygosity='heterozygous', \n",
    "              experiment_owner = None)\n",
    "mouse.date_of_birth"
   ]
  },
  {
   "cell_type": "code",
   "execution_count": 17,
   "metadata": {},
   "outputs": [],
   "source": [
    "from lernerlabdb.interface_modules.Scientist import Scientist\n",
    "from lernerlabdb.interface_modules.Project import Project"
   ]
  },
  {
   "cell_type": "code",
   "execution_count": 25,
   "metadata": {},
   "outputs": [
    {
     "data": {
      "text/plain": [
       "[<lernerlabdb.interface_modules.Project.Project at 0x12c72fc10>,\n",
       " <lernerlabdb.interface_modules.Project.Project at 0x12c702550>]"
      ]
     },
     "execution_count": 25,
     "metadata": {},
     "output_type": "execute_result"
    }
   ],
   "source": [
    "scientist = Scientist('test', 'test', 'test', 'test')\n",
    "project = Project('test')\n",
    "project2 = Project('test2')\n",
    "scientist.add_project([project, project2])\n",
    "scientist.projects"
   ]
  },
  {
   "cell_type": "code",
   "execution_count": 40,
   "metadata": {},
   "outputs": [
    {
     "data": {
      "text/plain": [
       "{'unique identifier': None,\n",
       " 'cage': None,\n",
       " 'ear tag': 1234,\n",
       " 'sex': 'male',\n",
       " 'genotype': 'DATCre',\n",
       " 'zygosity': 'heterozygous',\n",
       " 'date of birth': datetime.datetime(2023, 6, 25, 0, 0),\n",
       " 'status': 'alive',\n",
       " 'experiment_owner': None,\n",
       " 'surgeon': None,\n",
       " 'age': {'days': 122,\n",
       "  'weeks': 17,\n",
       "  'day since first surgery': 0,\n",
       "  'weeks since first surgery': 0},\n",
       " 'surgeries': [{'Date': datetime.date(2023, 10, 25),\n",
       "   'Time of surgery': datetime.time(16, 23, 41, 14264),\n",
       "   'Surgery number': 1,\n",
       "   'Procedures': [],\n",
       "   'Drugs': [],\n",
       "   'Notes': []},\n",
       "  {'Date': datetime.date(2023, 10, 25),\n",
       "   'Time of surgery': datetime.time(16, 23, 41, 14265),\n",
       "   'Surgery number': 2,\n",
       "   'Procedures': [],\n",
       "   'Drugs': [],\n",
       "   'Notes': []}],\n",
       " 'notes': [],\n",
       " 'experiments': []}"
      ]
     },
     "execution_count": 40,
     "metadata": {},
     "output_type": "execute_result"
    }
   ],
   "source": [
    "mouse = Mouse(\n",
    "    date_of_birth=date(2020, 1, 1),\n",
    "    sex=Sex.FEMALE,\n",
    "    ear_tag=2,\n",
    "    genotype=Genotype.WT,\n",
    "    zygosity=Zygosity.HOMOZYGOUS,\n",
    "    experiment_owner=scientist\n",
    ")"
   ]
  },
  {
   "cell_type": "code",
   "execution_count": null,
   "metadata": {},
   "outputs": [],
   "source": []
  }
 ],
 "metadata": {
  "kernelspec": {
   "display_name": "lldb",
   "language": "python",
   "name": "python3"
  },
  "language_info": {
   "codemirror_mode": {
    "name": "ipython",
    "version": 3
   },
   "file_extension": ".py",
   "mimetype": "text/x-python",
   "name": "python",
   "nbconvert_exporter": "python",
   "pygments_lexer": "ipython3",
   "version": "3.11.6"
  }
 },
 "nbformat": 4,
 "nbformat_minor": 2
}
